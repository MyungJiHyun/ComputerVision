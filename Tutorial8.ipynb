{
 "cells": [
  {
   "cell_type": "markdown",
   "metadata": {},
   "source": [
    "# Generating Lists using “List Comprehensions”"
   ]
  },
  {
   "cell_type": "markdown",
   "metadata": {},
   "source": [
    "## List Comprehensions 1"
   ]
  },
  {
   "cell_type": "raw",
   "metadata": {},
   "source": [
    " A powerful feature of the Python language.\n",
    " Generate a new list by applying a function to every member\n",
    "of an original list.\n",
    " Python programmers use list comprehensions extensively.\n",
    "You’ll see many of them in real code."
   ]
  },
  {
   "cell_type": "markdown",
   "metadata": {},
   "source": [
    "## List Comprehensions 2"
   ]
  },
  {
   "cell_type": "code",
   "execution_count": 1,
   "metadata": {},
   "outputs": [],
   "source": [
    "li = [3, 6, 2, 7]"
   ]
  },
  {
   "cell_type": "code",
   "execution_count": 2,
   "metadata": {},
   "outputs": [
    {
     "data": {
      "text/plain": [
       "[6, 12, 4, 14]"
      ]
     },
     "execution_count": 2,
     "metadata": {},
     "output_type": "execute_result"
    }
   ],
   "source": [
    "[elem*2 for elem in li]"
   ]
  },
  {
   "cell_type": "raw",
   "metadata": {},
   "source": [
    "[ expression for name in list ]\n",
    "\n",
    " Where expression is some calculation or operation\n",
    "   acting upon the variable name.\n",
    " For each member of the list, the list comprehension\n",
    "   1. sets name equal to that member, and\n",
    "   2. calculates a new value using expression,\n",
    " It then collects these new values into a list which is the\n",
    "   return value of the list comprehension.\n"
   ]
  },
  {
   "cell_type": "code",
   "execution_count": 3,
   "metadata": {},
   "outputs": [],
   "source": [
    "## List Comprehensions 3"
   ]
  },
  {
   "cell_type": "raw",
   "metadata": {},
   "source": [
    " If the elements of list are other collections, then\n",
    "   name can be replaced by a collection of names\n",
    "   that match the “shape” of the list members. "
   ]
  },
  {
   "cell_type": "code",
   "execution_count": 4,
   "metadata": {},
   "outputs": [],
   "source": [
    "li = [('a',1), ('b',2), ('c',7)]"
   ]
  },
  {
   "cell_type": "code",
   "execution_count": 5,
   "metadata": {},
   "outputs": [
    {
     "data": {
      "text/plain": [
       "[3, 6, 21]"
      ]
     },
     "execution_count": 5,
     "metadata": {},
     "output_type": "execute_result"
    }
   ],
   "source": [
    "[n * 3 for (x, n) in li]"
   ]
  },
  {
   "cell_type": "markdown",
   "metadata": {},
   "source": [
    "## Filtered List Comprehension 1"
   ]
  },
  {
   "cell_type": "raw",
   "metadata": {},
   "source": [
    " Filter determines whether expression is performed\n",
    "   on each member of the list.\n",
    " When processing each element of list, first check if\n",
    "   it satisfies the filter condition.\n",
    " If the filter condition returns False, that element is\n",
    "   omitted from the list before the list comprehension\n",
    "   is evaluated."
   ]
  },
  {
   "cell_type": "markdown",
   "metadata": {},
   "source": [
    "## Filtered List Comprehension 2"
   ]
  },
  {
   "cell_type": "code",
   "execution_count": 6,
   "metadata": {},
   "outputs": [],
   "source": [
    "li = [3, 6, 2, 7, 1, 9]"
   ]
  },
  {
   "cell_type": "code",
   "execution_count": 7,
   "metadata": {},
   "outputs": [
    {
     "data": {
      "text/plain": [
       "[12, 14, 18]"
      ]
     },
     "execution_count": 7,
     "metadata": {},
     "output_type": "execute_result"
    }
   ],
   "source": [
    "[elem * 2 for elem in li if elem > 4]"
   ]
  },
  {
   "cell_type": "raw",
   "metadata": {},
   "source": [
    " Only 6, 7, and 9 satisfy the filter condition.\n",
    " So, only 12, 14, and 18 are produced."
   ]
  },
  {
   "cell_type": "markdown",
   "metadata": {},
   "source": [
    "## Nested List Comprehensions\n",
    " Since list comprehensions take a list as input and\n",
    "   produce a list as output, they are easily nested:"
   ]
  },
  {
   "cell_type": "code",
   "execution_count": 8,
   "metadata": {},
   "outputs": [],
   "source": [
    "li = [3, 2, 4, 1]"
   ]
  },
  {
   "cell_type": "code",
   "execution_count": 14,
   "metadata": {},
   "outputs": [
    {
     "data": {
      "text/plain": [
       "[8, 6, 10, 4]"
      ]
     },
     "execution_count": 14,
     "metadata": {},
     "output_type": "execute_result"
    }
   ],
   "source": [
    "[elem * 2 for elem in [item + 1 for item in li]]"
   ]
  },
  {
   "cell_type": "raw",
   "metadata": {},
   "source": [
    " The inner comprehension produces: [4, 3, 5, 2].\n",
    " So, the outer one produces: [8, 6, 10, 4]."
   ]
  },
  {
   "cell_type": "markdown",
   "metadata": {},
   "source": [
    "### For Loops / List Comprehensions"
   ]
  },
  {
   "cell_type": "raw",
   "metadata": {},
   "source": [
    " Python’s list comprehensions provide a natural\n",
    "   idiom that usually requires a for-loop in other\n",
    "   programming languages.\n",
    " As a result, Python code uses many fewer for-loops\n",
    " Caveat! The keywords for and in also appear in the\n",
    "   syntax of list comprehensions, but this is a totally\n",
    "   different construction."
   ]
  },
  {
   "cell_type": "code",
   "execution_count": null,
   "metadata": {},
   "outputs": [],
   "source": []
  }
 ],
 "metadata": {
  "kernelspec": {
   "display_name": "Python 3",
   "language": "python",
   "name": "python3"
  },
  "language_info": {
   "codemirror_mode": {
    "name": "ipython",
    "version": 3
   },
   "file_extension": ".py",
   "mimetype": "text/x-python",
   "name": "python",
   "nbconvert_exporter": "python",
   "pygments_lexer": "ipython3",
   "version": "3.8.3"
  }
 },
 "nbformat": 4,
 "nbformat_minor": 4
}
