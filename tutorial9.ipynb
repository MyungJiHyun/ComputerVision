{
 "cells": [
  {
   "cell_type": "markdown",
   "metadata": {},
   "source": [
    "# Functions in Python \n",
    "## Calling a Function\n"
   ]
  },
  {
   "cell_type": "code",
   "execution_count": 1,
   "metadata": {},
   "outputs": [],
   "source": [
    "def myfun(x,y):\n",
    "    return x*y"
   ]
  },
  {
   "cell_type": "code",
   "execution_count": 2,
   "metadata": {},
   "outputs": [
    {
     "data": {
      "text/plain": [
       "12"
      ]
     },
     "execution_count": 2,
     "metadata": {},
     "output_type": "execute_result"
    }
   ],
   "source": [
    "myfun(3,4)"
   ]
  },
  {
   "cell_type": "markdown",
   "metadata": {},
   "source": [
    "## Functions without returns"
   ]
  },
  {
   "cell_type": "raw",
   "metadata": {},
   "source": [
    " All functions in Python have a return value\n",
    " even if no return line inside the code.\n",
    " Functions without a return return the special value None.\n",
    " None is a special constant in the language.\n",
    " None is used like null in Java.\n",
    " None is also logically equivalent to False.\n",
    " The interpreter doesn’t print None"
   ]
  },
  {
   "cell_type": "markdown",
   "metadata": {},
   "source": [
    "## Function overloading? No"
   ]
  },
  {
   "cell_type": "raw",
   "metadata": {},
   "source": [
    " There is no function overloading in Python.\n",
    " Unlike Java, a Python function is specified by its name alone\n",
    " The number, order, names, or types of its arguments cannot be used to distinguish between two functions with the same name.\n",
    " Two different functions can’t have the same name, even if they have different numbers of arguments.\n",
    " But operator overloading – overloading +, ==, -, etc. – is possible using special methods on various classes (see later slides)"
   ]
  },
  {
   "cell_type": "markdown",
   "metadata": {},
   "source": [
    "## Functions are first-class objects in Python"
   ]
  },
  {
   "cell_type": "raw",
   "metadata": {},
   "source": [
    " Functions can be used just like any other data\n",
    " They can be\n",
    " Arguments to function\n",
    " Return values of functions\n",
    " Assigned to variables\n",
    " Parts of tuples, lists, etc "
   ]
  },
  {
   "cell_type": "code",
   "execution_count": 3,
   "metadata": {},
   "outputs": [],
   "source": [
    "def myfun(x):\n",
    "    return x*3"
   ]
  },
  {
   "cell_type": "code",
   "execution_count": 9,
   "metadata": {},
   "outputs": [
    {
     "data": {
      "text/plain": [
       "21"
      ]
     },
     "execution_count": 9,
     "metadata": {},
     "output_type": "execute_result"
    }
   ],
   "source": [
    "def apply (q, x):\n",
    "    return q(x)\n",
    "apply(myfun, 7)"
   ]
  },
  {
   "cell_type": "markdown",
   "metadata": {},
   "source": [
    "## Lambda Notation"
   ]
  },
  {
   "cell_type": "raw",
   "metadata": {},
   "source": [
    " Functions can be defined without giving them names.\n",
    " This is most useful when passing a short function as an argument to another function."
   ]
  },
  {
   "cell_type": "code",
   "execution_count": 10,
   "metadata": {},
   "outputs": [
    {
     "data": {
      "text/plain": [
       "28"
      ]
     },
     "execution_count": 10,
     "metadata": {},
     "output_type": "execute_result"
    }
   ],
   "source": [
    "apply(lambda z: z * 4, 7)"
   ]
  },
  {
   "cell_type": "raw",
   "metadata": {},
   "source": [
    " The first argument to apply() is an unnamed function that takes one input and returns the input multiplied by four.\n",
    " Note: only single-expression functions can be defined using this lambda notation.\n",
    " Lambda notation has a rich history in CS research and the design of many current programming languages."
   ]
  },
  {
   "cell_type": "markdown",
   "metadata": {},
   "source": [
    "## Default Values for Arguments"
   ]
  },
  {
   "cell_type": "raw",
   "metadata": {},
   "source": [
    " You can provide default values for a function’s arguments\n",
    " These arguments are optional when the function is called"
   ]
  },
  {
   "cell_type": "code",
   "execution_count": 11,
   "metadata": {},
   "outputs": [],
   "source": [
    "def myfun(b, c=3, d=\"hello\"):\n",
    "    return b + c"
   ]
  },
  {
   "cell_type": "code",
   "execution_count": 12,
   "metadata": {},
   "outputs": [
    {
     "data": {
      "text/plain": [
       "8"
      ]
     },
     "execution_count": 12,
     "metadata": {},
     "output_type": "execute_result"
    }
   ],
   "source": [
    "myfun(5,3,\"hello\")"
   ]
  },
  {
   "cell_type": "code",
   "execution_count": 13,
   "metadata": {},
   "outputs": [
    {
     "data": {
      "text/plain": [
       "8"
      ]
     },
     "execution_count": 13,
     "metadata": {},
     "output_type": "execute_result"
    }
   ],
   "source": [
    "myfun(5,3)"
   ]
  },
  {
   "cell_type": "code",
   "execution_count": 14,
   "metadata": {},
   "outputs": [
    {
     "data": {
      "text/plain": [
       "8"
      ]
     },
     "execution_count": 14,
     "metadata": {},
     "output_type": "execute_result"
    }
   ],
   "source": [
    "myfun(5)"
   ]
  },
  {
   "cell_type": "markdown",
   "metadata": {},
   "source": [
    "## Keyword Arguments"
   ]
  },
  {
   "cell_type": "raw",
   "metadata": {},
   "source": [
    " Functions can be called with arguments out of order\n",
    " These arguments are specified in the call\n",
    " Keyword arguments can be used for a final subset of the arguments. "
   ]
  },
  {
   "cell_type": "code",
   "execution_count": 15,
   "metadata": {},
   "outputs": [],
   "source": [
    "def myfun (a, b, c):\n",
    "    return a-b"
   ]
  },
  {
   "cell_type": "code",
   "execution_count": 16,
   "metadata": {},
   "outputs": [
    {
     "data": {
      "text/plain": [
       "1"
      ]
     },
     "execution_count": 16,
     "metadata": {},
     "output_type": "execute_result"
    }
   ],
   "source": [
    "myfun(2, 1, 43)"
   ]
  },
  {
   "cell_type": "code",
   "execution_count": 17,
   "metadata": {},
   "outputs": [
    {
     "data": {
      "text/plain": [
       "1"
      ]
     },
     "execution_count": 17,
     "metadata": {},
     "output_type": "execute_result"
    }
   ],
   "source": [
    "myfun(c=43, b=1, a=2)"
   ]
  },
  {
   "cell_type": "code",
   "execution_count": 18,
   "metadata": {},
   "outputs": [
    {
     "data": {
      "text/plain": [
       "1"
      ]
     },
     "execution_count": 18,
     "metadata": {},
     "output_type": "execute_result"
    }
   ],
   "source": [
    "myfun(2, c=43, b=1)"
   ]
  },
  {
   "cell_type": "markdown",
   "metadata": {},
   "source": [
    "# Inheritance\n",
    "## Subclasses"
   ]
  },
  {
   "cell_type": "raw",
   "metadata": {},
   "source": [
    " A class can extend the definition of another class\n",
    " Allows use (or extension ) of methods and attributes already defined in the previous one.\n",
    " New class: subclass. Original: parent, ancestor or superclass\n",
    " To define a subclass, put the name of the superclass in parentheses after the subclass’s name on the first line of the definition.\n",
    "\n",
    " class ai_student(student):\n",
    "\n",
    " Python has no ‘extends’ keyword like Java.\n",
    " Multiple inheritance is supported."
   ]
  },
  {
   "cell_type": "markdown",
   "metadata": {},
   "source": [
    "## Redefining Methods"
   ]
  },
  {
   "cell_type": "raw",
   "metadata": {},
   "source": [
    " Very similar to over-riding methods in Java\n",
    " To redefine a method of the parent class, include a new definition using the same name in the subclass.\n",
    " The old code won’t get executed.\n",
    " To execute the method in the parent class in addition to new code for some method, explicitly call the parent’s version of the method.\n",
    "\n",
    " parentClass.methodName(self, a, b, c)\n",
    "\n",
    " The only time you ever explicitly pass ‘self’ as an argument is when calling a method of an ancestor."
   ]
  },
  {
   "cell_type": "markdown",
   "metadata": {},
   "source": [
    "## Extending __init__"
   ]
  },
  {
   "cell_type": "raw",
   "metadata": {},
   "source": [
    " Very similar to Java\n",
    " Commonly, the ancestor’s __init__ method is executed in addition to new commands.\n",
    " Must be done explicitly\n",
    " You’ll often see something like this in the __init__ method of subclasses:\n",
    "\n",
    " parentClass.__init__(self, x, y)\n",
    "\n",
    "where parentClass is the name of the parent’s class."
   ]
  },
  {
   "cell_type": "markdown",
   "metadata": {},
   "source": [
    "## Private Data and Methods"
   ]
  },
  {
   "cell_type": "raw",
   "metadata": {},
   "source": [
    " Any attribute or method with two leading underscores in its name (but none at the end) is private. It cannot be accessed outside of that class.\n",
    " Note: Names with two underscores at the beginning and the end are for built-in methods or attributes for the class\n",
    " Note: There is no ‘protected’ status in Python; so, subclasses would be unable to access these private data either"
   ]
  },
  {
   "cell_type": "markdown",
   "metadata": {},
   "source": [
    "# Importing and Modules"
   ]
  },
  {
   "cell_type": "raw",
   "metadata": {},
   "source": [
    " Programs will often use classes & functions defined in another file\n",
    " A Python module is a single file with the same name (plus the .py extension)\n",
    " Modules can contain many classes and functions\n",
    " Access using import (like Java) Where does Python look for module files?\n",
    " The list of directories where Python looks: sys.path\n",
    " When Python starts up, this variable is initialized from the PYTHONPATH environment variable\n",
    " To add a directory of your own to this list, append it to this list.\n",
    " sys.path.append(‘/my/new/path’)\n",
    " Oops! Operating system dependent…."
   ]
  },
  {
   "cell_type": "markdown",
   "metadata": {},
   "source": [
    "## Import I"
   ]
  },
  {
   "cell_type": "raw",
   "metadata": {},
   "source": [
    "import somefile\n",
    " Everything in somefile.py can be referred to by:\n",
    "somefile.className.method(“abc”)\n",
    "somefile.myFunction(34)\n",
    "\n",
    " from somefile import *\n",
    " Everything in somefile.py can be referred to by:\n",
    "className.method(“abc”)\n",
    "myFunction(34)\n",
    " Careful! This can overwrite the definition of an existing\n",
    "function or variable!"
   ]
  },
  {
   "cell_type": "markdown",
   "metadata": {},
   "source": [
    "## Import II"
   ]
  },
  {
   "cell_type": "raw",
   "metadata": {},
   "source": [
    "from somefile import className\n",
    " Only the item className in somefile.py gets imported.\n",
    " Refer to it without a module prefix.\n",
    " Caveat! This can overwrite an existing definition. "
   ]
  },
  {
   "cell_type": "markdown",
   "metadata": {},
   "source": [
    "## Commonly Used Modules"
   ]
  },
  {
   "cell_type": "raw",
   "metadata": {},
   "source": [
    " Some useful modules, included with Python:\n",
    " Module: sys - Lots of handy stuff.\n",
    " Module: os - OS specific code.\n",
    " Module: os.path - Directory processing.\n",
    " The Python standard library has lots of other useful stuff..."
   ]
  },
  {
   "cell_type": "markdown",
   "metadata": {},
   "source": [
    "## More Commonly Used Modules"
   ]
  },
  {
   "cell_type": "raw",
   "metadata": {},
   "source": [
    " Module: math - Mathematical functions.\n",
    " Exponents\n",
    " sqrt\n",
    " Module: Random - Random numbers\n",
    " Randrange (good for simulations, games, …)\n",
    " Uniform\n",
    " Choice\n",
    " Shuffle\n",
    " To see what’s in the standard library of modules, check out the Python Library Reference:\n",
    " http://docs.python.org/lib/lib.html"
   ]
  },
  {
   "cell_type": "markdown",
   "metadata": {},
   "source": [
    "# String Operations"
   ]
  },
  {
   "cell_type": "raw",
   "metadata": {},
   "source": [
    " The string class provides a number of methods for useful formatting operations:"
   ]
  },
  {
   "cell_type": "code",
   "execution_count": 19,
   "metadata": {},
   "outputs": [
    {
     "data": {
      "text/plain": [
       "'HELLO'"
      ]
     },
     "execution_count": 19,
     "metadata": {},
     "output_type": "execute_result"
    }
   ],
   "source": [
    "\"hello\".upper()"
   ]
  },
  {
   "cell_type": "raw",
   "metadata": {},
   "source": [
    " Check the Python documentation for many other handy string operations.\n",
    " Helpful hint: use <string>.strip() to strip off final newlines from lines read\n",
    "from files"
   ]
  },
  {
   "cell_type": "markdown",
   "metadata": {},
   "source": [
    "## String Formatting Operator: %"
   ]
  },
  {
   "cell_type": "raw",
   "metadata": {},
   "source": [
    " The operator % allows strings to be built out of many data items in a “fill in the blanks” fashion.\n",
    " Allows control of how the final string output will appear.\n",
    " For example, we could force a number to display with a specific number of digits after the decimal point.\n",
    " Very similar to the sprintf command of C."
   ]
  },
  {
   "cell_type": "code",
   "execution_count": 27,
   "metadata": {},
   "outputs": [],
   "source": [
    "x=\"abc\""
   ]
  },
  {
   "cell_type": "code",
   "execution_count": 26,
   "metadata": {},
   "outputs": [],
   "source": [
    "y=34"
   ]
  },
  {
   "cell_type": "code",
   "execution_count": 29,
   "metadata": {},
   "outputs": [
    {
     "data": {
      "text/plain": [
       "'abc xyz 34'"
      ]
     },
     "execution_count": 29,
     "metadata": {},
     "output_type": "execute_result"
    }
   ],
   "source": [
    "\"%s xyz %d\"%(x,y)"
   ]
  },
  {
   "cell_type": "raw",
   "metadata": {},
   "source": [
    " The tuple following the % operator is used to fill in the blanks in the original string marked with %s or %d.\n",
    " Check Python documentation for details. "
   ]
  },
  {
   "cell_type": "markdown",
   "metadata": {},
   "source": [
    "## Printing with Python"
   ]
  },
  {
   "cell_type": "raw",
   "metadata": {},
   "source": [
    " print a string to the standard output stream using “print”\n",
    " Using the % string operator in combination with the print command, we can format our output text"
   ]
  },
  {
   "cell_type": "code",
   "execution_count": 36,
   "metadata": {},
   "outputs": [
    {
     "name": "stdout",
     "output_type": "stream",
     "text": [
      "abc xyz 34\n"
     ]
    }
   ],
   "source": [
    "print((\"%s xyz %d\") % (\"abc\", 34))"
   ]
  },
  {
   "cell_type": "code",
   "execution_count": 34,
   "metadata": {},
   "outputs": [
    {
     "name": "stdout",
     "output_type": "stream",
     "text": [
      "abc\n"
     ]
    }
   ],
   "source": [
    "print(\"abc\")"
   ]
  },
  {
   "cell_type": "code",
   "execution_count": 37,
   "metadata": {},
   "outputs": [
    {
     "name": "stdout",
     "output_type": "stream",
     "text": [
      "abc def\n"
     ]
    }
   ],
   "source": [
    "print(\"abc\",\"def\")"
   ]
  },
  {
   "cell_type": "code",
   "execution_count": 38,
   "metadata": {},
   "outputs": [
    {
     "name": "stdout",
     "output_type": "stream",
     "text": [
      "abc\n"
     ]
    }
   ],
   "source": [
    "print(\"abc\",)"
   ]
  },
  {
   "cell_type": "markdown",
   "metadata": {},
   "source": [
    "## String to List to String"
   ]
  },
  {
   "cell_type": "raw",
   "metadata": {},
   "source": [
    " Join turns a list of strings into one string.\n",
    "<separator_string>.join( <some_list> )"
   ]
  },
  {
   "cell_type": "code",
   "execution_count": 39,
   "metadata": {},
   "outputs": [
    {
     "data": {
      "text/plain": [
       "'abc;def;ghi'"
      ]
     },
     "execution_count": 39,
     "metadata": {},
     "output_type": "execute_result"
    }
   ],
   "source": [
    "\";\".join([\"abc\", \"def\", \"ghi\"])"
   ]
  },
  {
   "cell_type": "raw",
   "metadata": {},
   "source": [
    " Split turns one string into a list of strings.\n",
    "<some_string>.split( <separator_string> )"
   ]
  },
  {
   "cell_type": "code",
   "execution_count": 40,
   "metadata": {},
   "outputs": [
    {
     "data": {
      "text/plain": [
       "['abc', 'def', 'ghi']"
      ]
     },
     "execution_count": 40,
     "metadata": {},
     "output_type": "execute_result"
    }
   ],
   "source": [
    "\"abc;def;ghi\".split(\";\")"
   ]
  },
  {
   "cell_type": "markdown",
   "metadata": {},
   "source": [
    "## Convert Anything to a String"
   ]
  },
  {
   "cell_type": "raw",
   "metadata": {},
   "source": [
    " The built-in str() function can convert an instance of any data type into a string.\n",
    " You can define how this function behaves for user-created data types. You can also redefine the behavior of this function for many types."
   ]
  },
  {
   "cell_type": "code",
   "execution_count": 41,
   "metadata": {},
   "outputs": [
    {
     "data": {
      "text/plain": [
       "'Hello2'"
      ]
     },
     "execution_count": 41,
     "metadata": {},
     "output_type": "execute_result"
    }
   ],
   "source": [
    "\"Hello\" + str(2)"
   ]
  },
  {
   "cell_type": "markdown",
   "metadata": {},
   "source": [
    "# Special Built-In Methods and Attributes"
   ]
  },
  {
   "cell_type": "raw",
   "metadata": {},
   "source": [
    " Classes contain many methods and attributes that are included by Python even if you don’t define them explicitly.\n",
    " Most of these methods define automatic functionality triggered by special operators or usage of that class.\n",
    " The built-in attributes define information that must be stored for all classes.\n",
    " All built-in members have double underscores around their names: __doc__"
   ]
  },
  {
   "cell_type": "markdown",
   "metadata": {},
   "source": [
    "## Special Methods"
   ]
  },
  {
   "cell_type": "raw",
   "metadata": {},
   "source": [
    " For example, the method __repr__ exists for all classes, and you can always redefine it.\n",
    " The definition of this method specifies how to turn an instance of the class into a string.\n",
    " print f sometimes calls f.__repr__() to produce a string for object f.\n",
    " If you type f at the prompt and hit ENTER, then you are also calling __repr__ to determine what to display to the user as output."
   ]
  },
  {
   "cell_type": "markdown",
   "metadata": {},
   "source": [
    "### Special Methods – Example"
   ]
  },
  {
   "cell_type": "code",
   "execution_count": 33,
   "metadata": {},
   "outputs": [
    {
     "ename": "IndentationError",
     "evalue": "expected an indented block (<ipython-input-33-4a6927ccfdaf>, line 3)",
     "output_type": "error",
     "traceback": [
      "\u001b[1;36m  File \u001b[1;32m\"<ipython-input-33-4a6927ccfdaf>\"\u001b[1;36m, line \u001b[1;32m3\u001b[0m\n\u001b[1;33m    def __repr__(self):\u001b[0m\n\u001b[1;37m    ^\u001b[0m\n\u001b[1;31mIndentationError\u001b[0m\u001b[1;31m:\u001b[0m expected an indented block\n"
     ]
    }
   ],
   "source": [
    "class student:\n",
    "    def __init__(self):\n",
    "    def __repr__(self): \n",
    "        return \"I'm named \".full_name"
   ]
  },
  {
   "cell_type": "code",
   "execution_count": 28,
   "metadata": {},
   "outputs": [],
   "source": [
    "f = student (\"Bob Smith\", 23)"
   ]
  },
  {
   "cell_type": "code",
   "execution_count": 29,
   "metadata": {
    "scrolled": true
   },
   "outputs": [
    {
     "name": "stdout",
     "output_type": "stream",
     "text": [
      "I'm named \n"
     ]
    }
   ],
   "source": [
    "print(f)"
   ]
  },
  {
   "cell_type": "code",
   "execution_count": 57,
   "metadata": {},
   "outputs": [
    {
     "ename": "NameError",
     "evalue": "name 'f' is not defined",
     "output_type": "error",
     "traceback": [
      "\u001b[1;31m---------------------------------------------------------------------------\u001b[0m",
      "\u001b[1;31mNameError\u001b[0m                                 Traceback (most recent call last)",
      "\u001b[1;32m<ipython-input-57-a9fcd54b25e7>\u001b[0m in \u001b[0;36m<module>\u001b[1;34m\u001b[0m\n\u001b[1;32m----> 1\u001b[1;33m \u001b[0mf\u001b[0m\u001b[1;33m\u001b[0m\u001b[1;33m\u001b[0m\u001b[0m\n\u001b[0m",
      "\u001b[1;31mNameError\u001b[0m: name 'f' is not defined"
     ]
    }
   ],
   "source": [
    "f"
   ]
  },
  {
   "cell_type": "markdown",
   "metadata": {},
   "source": [
    "## Special Methods "
   ]
  },
  {
   "cell_type": "raw",
   "metadata": {},
   "source": [
    " Used to implement operator overloading\n",
    " Most operators trigger a special method, dependent on class\n",
    "__init__: The constructor for the class.\n",
    "__len__ : Define how len( obj ) works.\n",
    "__copy__: Define how to copy a class.\n",
    "__cmp__ : Define how == works for class.\n",
    "__add__ : Define how + works for class\n",
    "__neg__ : Define how unary negation works for class\n",
    " Other built-in methods allow you to give a class the\n",
    "ability to use [ ] notation like an array or ( ) notation\n",
    "like a function call."
   ]
  },
  {
   "cell_type": "markdown",
   "metadata": {},
   "source": [
    "## Special Data Attributes"
   ]
  },
  {
   "cell_type": "raw",
   "metadata": {},
   "source": [
    " These attributes exist for all classes.\n",
    "__doc__ : Variable storing the documentation string for that\n",
    "class.\n",
    "__class__ : Variable which gives you a reference to the\n",
    "class from any instance of it.\n",
    "__module__ : Variable which gives you a reference to the\n",
    "module in which the particular class is defined.\n",
    "__dict__ :The dictionary that is actually the namespace\n",
    "for a class (but not its superclasses).\n",
    " Useful:\n",
    " dir(x) returns a list of all methods and attributes defined\n",
    "for object x"
   ]
  },
  {
   "cell_type": "markdown",
   "metadata": {},
   "source": [
    "## Special Data Items – Example"
   ]
  },
  {
   "cell_type": "code",
   "execution_count": 60,
   "metadata": {},
   "outputs": [
    {
     "ename": "SyntaxError",
     "evalue": "invalid syntax (<ipython-input-60-5ba559460601>, line 1)",
     "output_type": "error",
     "traceback": [
      "\u001b[1;36m  File \u001b[1;32m\"<ipython-input-60-5ba559460601>\"\u001b[1;36m, line \u001b[1;32m1\u001b[0m\n\u001b[1;33m    f = student \"Bob Smith\", 23\u001b[0m\n\u001b[1;37m                ^\u001b[0m\n\u001b[1;31mSyntaxError\u001b[0m\u001b[1;31m:\u001b[0m invalid syntax\n"
     ]
    }
   ],
   "source": [
    "f = student (\"Bob Smith\", 23)"
   ]
  },
  {
   "cell_type": "code",
   "execution_count": null,
   "metadata": {},
   "outputs": [],
   "source": [
    "print f.__doc__"
   ]
  },
  {
   "cell_type": "code",
   "execution_count": null,
   "metadata": {},
   "outputs": [],
   "source": [
    "f.__class__"
   ]
  },
  {
   "cell_type": "code",
   "execution_count": 11,
   "metadata": {},
   "outputs": [
    {
     "ename": "NameError",
     "evalue": "name 'f' is not defined",
     "output_type": "error",
     "traceback": [
      "\u001b[1;31m---------------------------------------------------------------------------\u001b[0m",
      "\u001b[1;31mNameError\u001b[0m                                 Traceback (most recent call last)",
      "\u001b[1;32m<ipython-input-11-e526f42cac3f>\u001b[0m in \u001b[0;36m<module>\u001b[1;34m\u001b[0m\n\u001b[1;32m----> 1\u001b[1;33m \u001b[0mg\u001b[0m \u001b[1;33m=\u001b[0m \u001b[0mf\u001b[0m\u001b[1;33m.\u001b[0m\u001b[0m__class__\u001b[0m\u001b[1;33m(\u001b[0m\u001b[1;34m\"Tom Jones\"\u001b[0m\u001b[1;33m,\u001b[0m \u001b[1;36m34\u001b[0m\u001b[1;33m)\u001b[0m\u001b[1;33m\u001b[0m\u001b[1;33m\u001b[0m\u001b[0m\n\u001b[0m",
      "\u001b[1;31mNameError\u001b[0m: name 'f' is not defined"
     ]
    }
   ],
   "source": [
    "g = f.__class__(\"Tom Jones\", 34)"
   ]
  },
  {
   "cell_type": "markdown",
   "metadata": {},
   "source": [
    "# File Processing, Error Handling\n",
    "## File Processing with Python"
   ]
  },
  {
   "cell_type": "raw",
   "metadata": {},
   "source": [
    "About what you’d expect"
   ]
  },
  {
   "cell_type": "code",
   "execution_count": 12,
   "metadata": {},
   "outputs": [
    {
     "ename": "SyntaxError",
     "evalue": "invalid character in identifier (<ipython-input-12-b34010787615>, line 1)",
     "output_type": "error",
     "traceback": [
      "\u001b[1;36m  File \u001b[1;32m\"<ipython-input-12-b34010787615>\"\u001b[1;36m, line \u001b[1;32m1\u001b[0m\n\u001b[1;33m    fileptr = open(“filename”)\u001b[0m\n\u001b[1;37m                            ^\u001b[0m\n\u001b[1;31mSyntaxError\u001b[0m\u001b[1;31m:\u001b[0m invalid character in identifier\n"
     ]
    }
   ],
   "source": [
    "fileptr = open(“filename”)\n",
    "somestring = fileptr.read()\n",
    "for line in fileptr:\n",
    "print line\n",
    "fileptr.close()"
   ]
  },
  {
   "cell_type": "markdown",
   "metadata": {},
   "source": [
    "## Exception Handling"
   ]
  },
  {
   "cell_type": "raw",
   "metadata": {},
   "source": [
    " Exceptions are Python objects\n",
    " More specific kinds of errors are subclasses of the general Error class.\n",
    "\n",
    " You use the following forms to interact with them:\n",
    " try\n",
    " except\n",
    " else\n",
    " finally"
   ]
  },
  {
   "cell_type": "code",
   "execution_count": 37,
   "metadata": {},
   "outputs": [],
   "source": [
    "def divide(x, y):\n",
    "    try:\n",
    "        result = x / y\n",
    "    except ZeroDivisionError:\n",
    "        print (\"division by zero!\")\n",
    "    else:\n",
    "        print (\"result is\"), result\n",
    "    finally:\n",
    "        print (\"executing finally clause\")"
   ]
  },
  {
   "cell_type": "code",
   "execution_count": 38,
   "metadata": {},
   "outputs": [
    {
     "name": "stdout",
     "output_type": "stream",
     "text": [
      "result is\n",
      "executing finally clause\n"
     ]
    }
   ],
   "source": [
    "divide(2, 1)"
   ]
  },
  {
   "cell_type": "code",
   "execution_count": 39,
   "metadata": {},
   "outputs": [
    {
     "name": "stdout",
     "output_type": "stream",
     "text": [
      "division by zero!\n",
      "executing finally clause\n"
     ]
    }
   ],
   "source": [
    "divide(2, 0)"
   ]
  },
  {
   "cell_type": "code",
   "execution_count": 40,
   "metadata": {},
   "outputs": [
    {
     "name": "stdout",
     "output_type": "stream",
     "text": [
      "executing finally clause\n"
     ]
    },
    {
     "ename": "TypeError",
     "evalue": "unsupported operand type(s) for /: 'str' and 'str'",
     "output_type": "error",
     "traceback": [
      "\u001b[1;31m---------------------------------------------------------------------------\u001b[0m",
      "\u001b[1;31mTypeError\u001b[0m                                 Traceback (most recent call last)",
      "\u001b[1;32m<ipython-input-40-3ad63cdb9b7d>\u001b[0m in \u001b[0;36m<module>\u001b[1;34m\u001b[0m\n\u001b[1;32m----> 1\u001b[1;33m \u001b[0mdivide\u001b[0m\u001b[1;33m(\u001b[0m\u001b[1;34m\"2\"\u001b[0m\u001b[1;33m,\u001b[0m \u001b[1;34m\"1\"\u001b[0m\u001b[1;33m)\u001b[0m\u001b[1;33m\u001b[0m\u001b[1;33m\u001b[0m\u001b[0m\n\u001b[0m",
      "\u001b[1;32m<ipython-input-37-7b410ab90bcb>\u001b[0m in \u001b[0;36mdivide\u001b[1;34m(x, y)\u001b[0m\n\u001b[0;32m      1\u001b[0m \u001b[1;32mdef\u001b[0m \u001b[0mdivide\u001b[0m\u001b[1;33m(\u001b[0m\u001b[0mx\u001b[0m\u001b[1;33m,\u001b[0m \u001b[0my\u001b[0m\u001b[1;33m)\u001b[0m\u001b[1;33m:\u001b[0m\u001b[1;33m\u001b[0m\u001b[1;33m\u001b[0m\u001b[0m\n\u001b[0;32m      2\u001b[0m     \u001b[1;32mtry\u001b[0m\u001b[1;33m:\u001b[0m\u001b[1;33m\u001b[0m\u001b[1;33m\u001b[0m\u001b[0m\n\u001b[1;32m----> 3\u001b[1;33m         \u001b[0mresult\u001b[0m \u001b[1;33m=\u001b[0m \u001b[0mx\u001b[0m \u001b[1;33m/\u001b[0m \u001b[0my\u001b[0m\u001b[1;33m\u001b[0m\u001b[1;33m\u001b[0m\u001b[0m\n\u001b[0m\u001b[0;32m      4\u001b[0m     \u001b[1;32mexcept\u001b[0m \u001b[0mZeroDivisionError\u001b[0m\u001b[1;33m:\u001b[0m\u001b[1;33m\u001b[0m\u001b[1;33m\u001b[0m\u001b[0m\n\u001b[0;32m      5\u001b[0m         \u001b[0mprint\u001b[0m \u001b[1;33m(\u001b[0m\u001b[1;34m\"division by zero!\"\u001b[0m\u001b[1;33m)\u001b[0m\u001b[1;33m\u001b[0m\u001b[1;33m\u001b[0m\u001b[0m\n",
      "\u001b[1;31mTypeError\u001b[0m: unsupported operand type(s) for /: 'str' and 'str'"
     ]
    }
   ],
   "source": [
    "divide(\"2\", \"1\")"
   ]
  },
  {
   "cell_type": "markdown",
   "metadata": {},
   "source": [
    "# Iterators"
   ]
  },
  {
   "cell_type": "markdown",
   "metadata": {},
   "source": [
    "## Iterators in Python"
   ]
  },
  {
   "cell_type": "code",
   "execution_count": 42,
   "metadata": {},
   "outputs": [
    {
     "name": "stdout",
     "output_type": "stream",
     "text": [
      "1\n",
      "2\n"
     ]
    }
   ],
   "source": [
    "for e in [1,2]:\n",
    "    print (e)"
   ]
  },
  {
   "cell_type": "code",
   "execution_count": 7,
   "metadata": {},
   "outputs": [],
   "source": [
    "s = [1, 2]"
   ]
  },
  {
   "cell_type": "code",
   "execution_count": 8,
   "metadata": {},
   "outputs": [],
   "source": [
    "it = iter(s)"
   ]
  },
  {
   "cell_type": "code",
   "execution_count": 9,
   "metadata": {},
   "outputs": [
    {
     "data": {
      "text/plain": [
       "<list_iterator at 0x2c0b163ae50>"
      ]
     },
     "execution_count": 9,
     "metadata": {},
     "output_type": "execute_result"
    }
   ],
   "source": [
    "it"
   ]
  },
  {
   "cell_type": "code",
   "execution_count": 10,
   "metadata": {},
   "outputs": [
    {
     "ename": "AttributeError",
     "evalue": "'list_iterator' object has no attribute 'next'",
     "output_type": "error",
     "traceback": [
      "\u001b[1;31m---------------------------------------------------------------------------\u001b[0m",
      "\u001b[1;31mAttributeError\u001b[0m                            Traceback (most recent call last)",
      "\u001b[1;32m<ipython-input-10-24d6ab57088b>\u001b[0m in \u001b[0;36m<module>\u001b[1;34m\u001b[0m\n\u001b[1;32m----> 1\u001b[1;33m \u001b[0mit\u001b[0m\u001b[1;33m.\u001b[0m\u001b[0mnext\u001b[0m\u001b[1;33m(\u001b[0m\u001b[1;33m)\u001b[0m\u001b[1;33m\u001b[0m\u001b[1;33m\u001b[0m\u001b[0m\n\u001b[0m",
      "\u001b[1;31mAttributeError\u001b[0m: 'list_iterator' object has no attribute 'next'"
     ]
    }
   ],
   "source": [
    "it.next()"
   ]
  },
  {
   "cell_type": "markdown",
   "metadata": {},
   "source": [
    "## Class with iterator in Python"
   ]
  },
  {
   "cell_type": "code",
   "execution_count": 16,
   "metadata": {},
   "outputs": [],
   "source": [
    "class Reverse:\n",
    "    \"Iterator for looping over a sequence backwards\"\n",
    "    def __init__(self, data):\n",
    "        self.data = data\n",
    "        self.index = len(data)\n",
    "    def __next__(self):\n",
    "        if self.index == 0:\n",
    "            raise StopIteration\n",
    "        self.index = self.index - 1\n",
    "        return self.data[self.index]\n",
    "    def __iter__(self):\n",
    "        return self"
   ]
  },
  {
   "cell_type": "code",
   "execution_count": 17,
   "metadata": {},
   "outputs": [
    {
     "name": "stdout",
     "output_type": "stream",
     "text": [
      "m\n",
      "a\n",
      "p\n",
      "s\n"
     ]
    }
   ],
   "source": [
    "for char in Reverse('spam'):\n",
    "    print (char)"
   ]
  },
  {
   "cell_type": "markdown",
   "metadata": {},
   "source": [
    "## Iterators and list comprehensions"
   ]
  },
  {
   "cell_type": "code",
   "execution_count": 18,
   "metadata": {},
   "outputs": [
    {
     "data": {
      "text/plain": [
       "['m', 'a', 'p', 's']"
      ]
     },
     "execution_count": 18,
     "metadata": {},
     "output_type": "execute_result"
    }
   ],
   "source": [
    "[x for x in Reverse('spam')]"
   ]
  },
  {
   "cell_type": "code",
   "execution_count": 19,
   "metadata": {},
   "outputs": [
    {
     "data": {
      "text/plain": [
       "['mm', 'aa', 'pp', 'ss']"
      ]
     },
     "execution_count": 19,
     "metadata": {},
     "output_type": "execute_result"
    }
   ],
   "source": [
    "[x + x for x in Reverse('spam')]"
   ]
  },
  {
   "cell_type": "markdown",
   "metadata": {},
   "source": [
    "# Generators"
   ]
  },
  {
   "cell_type": "raw",
   "metadata": {},
   "source": [
    " Defines an iterator with a function\n",
    " Maintains local state automatically"
   ]
  },
  {
   "cell_type": "code",
   "execution_count": 20,
   "metadata": {},
   "outputs": [],
   "source": [
    "def reverse(data):\n",
    "    for i in range(len(data)):\n",
    "        yield data[len(data)-1-i]"
   ]
  },
  {
   "cell_type": "code",
   "execution_count": 21,
   "metadata": {},
   "outputs": [
    {
     "name": "stdout",
     "output_type": "stream",
     "text": [
      "m\n",
      "a\n",
      "p\n",
      "s\n"
     ]
    }
   ],
   "source": [
    "for char in reverse('spam'):\n",
    "    print (char)"
   ]
  },
  {
   "cell_type": "markdown",
   "metadata": {},
   "source": [
    "## Using generators"
   ]
  },
  {
   "cell_type": "raw",
   "metadata": {},
   "source": [
    " Merging sequences:"
   ]
  },
  {
   "cell_type": "code",
   "execution_count": null,
   "metadata": {},
   "outputs": [],
   "source": [
    "def merge(l, r):\n",
    "    llen, rlen, i, j = len(1), len(r), 0, 0\n",
    "    while i < llen or j < rlen:\n",
    "        if j == rlen or (i < llen and l[i] < r[j]):\n",
    "            yield l[i]\n",
    "            i += 1\n",
    "        else:\n",
    "            yield r[j]\n",
    "            j += 1"
   ]
  },
  {
   "cell_type": "code",
   "execution_count": null,
   "metadata": {},
   "outputs": [],
   "source": [
    "g = merge([2, 4], [1, 3, 5])"
   ]
  },
  {
   "cell_type": "code",
   "execution_count": null,
   "metadata": {},
   "outputs": [],
   "source": [
    "while True:\n",
    "    print (g.next())"
   ]
  },
  {
   "cell_type": "code",
   "execution_count": null,
   "metadata": {},
   "outputs": [],
   "source": [
    "[x for x in merge([1,3,5],[2,4])]"
   ]
  },
  {
   "cell_type": "code",
   "execution_count": null,
   "metadata": {},
   "outputs": [],
   "source": [
    "g = merge([2,4],[1,3,5])"
   ]
  },
  {
   "cell_type": "code",
   "execution_count": null,
   "metadata": {},
   "outputs": [],
   "source": [
    "while True:\n",
    "    try:\n",
    "        print g.next()\n",
    "    except StopIteration:\n",
    "        print 'Done'\n",
    "        break"
   ]
  },
  {
   "cell_type": "code",
   "execution_count": null,
   "metadata": {},
   "outputs": [],
   "source": []
  }
 ],
 "metadata": {
  "kernelspec": {
   "display_name": "Python 3",
   "language": "python",
   "name": "python3"
  },
  "language_info": {
   "codemirror_mode": {
    "name": "ipython",
    "version": 3
   },
   "file_extension": ".py",
   "mimetype": "text/x-python",
   "name": "python",
   "nbconvert_exporter": "python",
   "pygments_lexer": "ipython3",
   "version": "3.8.3"
  }
 },
 "nbformat": 4,
 "nbformat_minor": 4
}
