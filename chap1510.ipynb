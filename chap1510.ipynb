{
 "cells": [
  {
   "cell_type": "markdown",
   "metadata": {},
   "source": [
    "# 1.5.10 Feature Matching + Homography to find Objects"
   ]
  },
  {
   "cell_type": "code",
   "execution_count": 1,
   "metadata": {},
   "outputs": [],
   "source": [
    "import cv2\n",
    "import numpy as np"
   ]
  },
  {
   "cell_type": "code",
   "execution_count": 3,
   "metadata": {},
   "outputs": [],
   "source": [
    "qimg = cv2.imread('face.png',0)\n",
    "timg = cv2.imread('hu.png',0)\n",
    "\n",
    "sift = cv2.xfeatures2d.SIFT_create()\n",
    "\n",
    "kp1, des1 = sift.detectAndCompute(qimg,None)\n",
    "kp2, des2 = sift.detectAndCompute(timg,None)\n",
    "\n",
    "FLANN_INDEX_KDTREE = 0\n",
    "index_params = dict(algorithm=FLANN_INDEX_KDTREE,trees=5)\n",
    "search_params = dict(chechs=50)\n",
    "\n",
    "flann = cv2.FlannBasedMatcher(index_params,search_params)\n",
    "\n",
    "matches = flann.knnMatch(des1,des2,k=2)\n",
    "\n",
    "good = []\n",
    "for m,n in matches:\n",
    "    if m.distance < 0.7*n.distance:\n",
    "        good.append(m)\n",
    "        \n",
    "MIN_MATCH_COUNT = 10\n",
    "if len(good) > MIN_MATCH_COUNT:\n",
    "    src_pts = np.float32([kp1[m.queryIdx].pt for m in good]).reshape(-1,1,2)\n",
    "    dst_pts = np.float32([kp2[m.trainIdx].pt for m in good]).reshape(-1,1,2)\n",
    "    \n",
    "    M, mask = cv2.findHomography(src_pts,dst_pts,cv2.RANSAC,5.0)\n",
    "    matchesMask = mask.ravel().tolist()\n",
    "    \n",
    "    h,w = qimg.shape\n",
    "    pts = np.float32([[0,0],[0,h-1],[w-1,h-1],[w-1,0]]).reshape(-1,1,2)\n",
    "    dst = cv2.perspectiveTransform(pts,M)\n",
    "    \n",
    "    timg = cv2.polylines(timg,[np.int32(dst)],True,255,3,cv2.LINE_AA)\n",
    "\n",
    "else:\n",
    "    print(\"발견된 매칭이 부족합니다 - %d%d\" % (len(good),MIN_MATCH_COUNT))\n",
    "    matchesMask = None\n",
    "    \n",
    "draw_params = dict(matchColor = (0,255,0),\n",
    "                  singlePointColor = None,\n",
    "                  matchesMask=matchesMask,\n",
    "                  flags=2)\n",
    "res = None\n",
    "res = cv2.drawMatches(qimg,kp1,timg,kp2,good,res,**draw_params)\n",
    "\n",
    "cv2.imshow(\"Res\",res)\n",
    "cv2.waitKey(0)\n",
    "cv2.destroyAllWindows()"
   ]
  },
  {
   "cell_type": "code",
   "execution_count": null,
   "metadata": {},
   "outputs": [],
   "source": []
  }
 ],
 "metadata": {
  "kernelspec": {
   "display_name": "Python 3",
   "language": "python",
   "name": "python3"
  },
  "language_info": {
   "codemirror_mode": {
    "name": "ipython",
    "version": 3
   },
   "file_extension": ".py",
   "mimetype": "text/x-python",
   "name": "python",
   "nbconvert_exporter": "python",
   "pygments_lexer": "ipython3",
   "version": "3.8.3"
  }
 },
 "nbformat": 4,
 "nbformat_minor": 4
}
