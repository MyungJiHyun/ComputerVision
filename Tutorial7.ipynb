{
 "cells": [
  {
   "cell_type": "markdown",
   "metadata": {},
   "source": [
    "# For Loops\n",
    "## For Loops 1"
   ]
  },
  {
   "cell_type": "raw",
   "metadata": {},
   "source": [
    " For-each is Python’s only form of for loop\n",
    " A for loop steps through each of the items in a collection\n",
    "type, or any other type of object which is “iterable”"
   ]
  },
  {
   "cell_type": "raw",
   "metadata": {},
   "source": [
    "  for <item> in <collection>:\n",
    "    <statements>"
   ]
  },
  {
   "cell_type": "raw",
   "metadata": {},
   "source": [
    " If <collection> is a list or a tuple, then the loop steps\n",
    "through each element of the sequence.\n",
    " If <collection> is a string, then the loop steps through each\n",
    "character of the string.\n",
    "\n",
    "  for someChar in “Hello World”:\n",
    "   print someChar\n"
   ]
  },
  {
   "cell_type": "markdown",
   "metadata": {},
   "source": [
    "## For Loops 2"
   ]
  },
  {
   "cell_type": "raw",
   "metadata": {},
   "source": [
    "for <item> in <collection>:\n",
    "    <statements>"
   ]
  },
  {
   "cell_type": "raw",
   "metadata": {},
   "source": [
    " <item> can be more complex than a single\n",
    "variable name.\n",
    " If the elements of <collection> are themselves collections,\n",
    "then <item> can match the structure of the elements. (We\n",
    "saw something similar with list comprehensions and with\n",
    "ordinary assignments.)\n",
    "\n",
    "for (x,y) in [(a,1), (b,2), (c,3), (d,4)]:\n",
    "    print x"
   ]
  },
  {
   "cell_type": "markdown",
   "metadata": {},
   "source": [
    "### For loops and the range() function"
   ]
  },
  {
   "cell_type": "raw",
   "metadata": {},
   "source": [
    " We often want to write a loop where the variables ranges\n",
    "over some sequence of numbers. The range() function\n",
    "returns a list of numbers from 0 up to but not including the\n",
    "number we pass to it.\n",
    "\n",
    " range(5) returns [0,1,2,3,4]\n",
    "\n",
    " So we can say:\n",
    "  for x in range(5):\n",
    "   print x\n",
    "\n",
    " (There are several other forms of range() that provide\n",
    "variants of this functionality…)\n",
    "\n",
    " xrange() returns an iterator that provides the same\n",
    "functionality more efficiently"
   ]
  },
  {
   "cell_type": "markdown",
   "metadata": {},
   "source": [
    "### Abuse of the range() function"
   ]
  },
  {
   "cell_type": "raw",
   "metadata": {},
   "source": [
    " Don't use range() to iterate over a sequence solely to have\n",
    "the index and elements available at the same time\n",
    "\n",
    " Avoid:\n",
    "  for i in range(len(mylist)):\n",
    "   print i, mylist[i]\n",
    "\n",
    " Instead:\n",
    "  for (i, item) in enumerate(mylist):\n",
    "   print i, item"
   ]
  }
 ],
 "metadata": {
  "kernelspec": {
   "display_name": "Python 3",
   "language": "python",
   "name": "python3"
  },
  "language_info": {
   "codemirror_mode": {
    "name": "ipython",
    "version": 3
   },
   "file_extension": ".py",
   "mimetype": "text/x-python",
   "name": "python",
   "nbconvert_exporter": "python",
   "pygments_lexer": "ipython3",
   "version": "3.8.3"
  }
 },
 "nbformat": 4,
 "nbformat_minor": 4
}
