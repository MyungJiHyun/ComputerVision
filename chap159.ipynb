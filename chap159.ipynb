{
 "cells": [
  {
   "cell_type": "markdown",
   "metadata": {},
   "source": [
    "# 1.5.9 Feature Matching\n",
    "## Brute-Force Matching with ORB Descriptors"
   ]
  },
  {
   "cell_type": "code",
   "execution_count": 1,
   "metadata": {},
   "outputs": [],
   "source": [
    "import numpy as np\n",
    "import cv2"
   ]
  },
  {
   "cell_type": "code",
   "execution_count": 5,
   "metadata": {},
   "outputs": [],
   "source": [
    "img1 = cv2.imread('face.png',0)\n",
    "img2 = cv2.imread('hu.png',0)\n",
    "img3 = None\n",
    "orb = cv2.ORB_create()\n",
    "\n",
    "kp1,des1 = orb.detectAndCompute(img1,None)\n",
    "kp2,des2 = orb.detectAndCompute(img2,None)\n",
    "\n",
    "bf = cv2.BFMatcher(cv2.NORM_HAMMING, crossCheck=True)\n",
    "\n",
    "matches = bf.match(des1,des2)\n",
    "\n",
    "matches = sorted(matches, key = lambda x:x.distance)\n",
    "\n",
    "img3 = cv2.drawMatches(img1,kp1,img2,kp2,matches[:10],img3,flags=2)\n",
    "\n",
    "cv2.imshow(\"Feature Matching\",img3)\n",
    "cv2.waitKey(0)\n",
    "cv2.destroyAllWindows()"
   ]
  },
  {
   "cell_type": "markdown",
   "metadata": {},
   "source": [
    "## Brute-Force Matching with SIFT Descriptors and Ratio Test"
   ]
  },
  {
   "cell_type": "code",
   "execution_count": 7,
   "metadata": {},
   "outputs": [],
   "source": [
    "qimg = cv2.imread('face.png',0)\n",
    "timg = cv2.imread('hu.png',0)\n",
    "res2 = None\n",
    "\n",
    "sift = cv2.xfeatures2d.SIFT_create()\n",
    "\n",
    "kp1, des1 = sift.detectAndCompute(qimg,None)\n",
    "kp2, des2 = sift.detectAndCompute(timg,None)\n",
    "\n",
    "bf = cv2.BFMatcher()\n",
    "matches = bf.knnMatch(des1,des2,k=2)\n",
    "\n",
    "good = []\n",
    "\n",
    "for m,n in matches:\n",
    "    if m.distance < 0.75*n.distance:\n",
    "        good.append([m])\n",
    "        \n",
    "res2 = cv2.drawMatchesKnn(qimg,kp1,timg,kp2,good,res2,flags=2)\n",
    "\n",
    "cv2.imshow(\"BF with SIFT\",res2)\n",
    "cv2.waitKey(0)\n",
    "cv2.destroyAllWindows()"
   ]
  },
  {
   "cell_type": "markdown",
   "metadata": {},
   "source": [
    "## FLANN based Matcher"
   ]
  },
  {
   "cell_type": "code",
   "execution_count": 9,
   "metadata": {},
   "outputs": [],
   "source": [
    "qimg = cv2.imread('face.png',0)\n",
    "timg = cv2.imread('hu.png',0)\n",
    "rimg = cv2.imread('ro_hu.png',0)\n",
    "res1, res2 = None, None\n",
    "\n",
    "sift = cv2.xfeatures2d.SIFT_create()\n",
    "\n",
    "kp1, des1 = sift.detectAndCompute(qimg,None)\n",
    "kp2, des2 = sift.detectAndCompute(timg,None)\n",
    "kp3, des3 = sift.detectAndCompute(rimg,None)\n",
    "\n",
    "FLANN_INDEX_KDTREE = 0\n",
    "index_params = dict(algorithm=FLANN_INDEX_KDTREE,trees=5)\n",
    "search_params = dict(checks=50)\n",
    "\n",
    "flann = cv2.FlannBasedMatcher(index_params,search_params)\n",
    "\n",
    "matches1 = flann.knnMatch(des1,des2,k=2)\n",
    "matches2 = flann.knnMatch(des1,des3,k=2)\n",
    "\n",
    "matchesMask = [[0,0] for i in range(len(matches))]\n",
    "\n",
    "for i,(m,m) in enumerate(matches1):\n",
    "    if m.distance < 0.7*n.distance:\n",
    "        matchesMask[i] = [1,0]\n",
    "        \n",
    "draw_params = dict(matchColor = (0,255,0),\n",
    "                  singlePointColor = (255,0,0),\n",
    "                  matchesMask = matchesMask,\n",
    "                  flags = 0)\n",
    "\n",
    "res1 = cv2.drawMatchesKnn(qimg,kp1,timg,kp2,matches1,res1,**draw_params)\n",
    "\n",
    "cv2.imshow('FLANN',res1)\n",
    "cv2.waitKey(0)\n",
    "cv2.destroyAllWindows()"
   ]
  },
  {
   "cell_type": "code",
   "execution_count": null,
   "metadata": {},
   "outputs": [],
   "source": []
  }
 ],
 "metadata": {
  "kernelspec": {
   "display_name": "Python 3",
   "language": "python",
   "name": "python3"
  },
  "language_info": {
   "codemirror_mode": {
    "name": "ipython",
    "version": 3
   },
   "file_extension": ".py",
   "mimetype": "text/x-python",
   "name": "python",
   "nbconvert_exporter": "python",
   "pygments_lexer": "ipython3",
   "version": "3.8.3"
  }
 },
 "nbformat": 4,
 "nbformat_minor": 4
}
