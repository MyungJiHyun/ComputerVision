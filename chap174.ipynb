{
 "cells": [
  {
   "cell_type": "markdown",
   "metadata": {},
   "source": [
    "# 1.7.4 Depth Map from Stereo Images"
   ]
  },
  {
   "cell_type": "code",
   "execution_count": 4,
   "metadata": {},
   "outputs": [],
   "source": [
    "import numpy as np\n",
    "import cv2\n",
    "from matplotlib import pyplot as plt\n",
    "from sklearn.preprocessing import normalize"
   ]
  },
  {
   "cell_type": "code",
   "execution_count": 7,
   "metadata": {},
   "outputs": [],
   "source": [
    "imgL = cv2.imread(\"dsu5.jpg\",0)\n",
    "h,w = imgL.shape\n",
    "imgR = cv2.imread(\"dsu6.jpg\",0)\n",
    "imgR = cv2.resize(imgR,(w,h))\n",
    "\n",
    "window_size = 3\n",
    "\n",
    "left_matcher = cv2.StereoSGBM_create(minDisparity=0,numDisparities = 160,\n",
    "                                    blockSize = 25,\n",
    "                                    P1=8*3*window_size **2,\n",
    "                                    P2=32*3*window_size **2,\n",
    "                                    disp12MaxDiff = 1,\n",
    "                                    uniquenessRatio = 15,\n",
    "                                    speckleWindowSize=0,\n",
    "                                    speckleRange=2,\n",
    "                                    preFilterCap=63,\n",
    "                                    mode=cv2.STEREO_SGBM_MODE_SGBM_3WAY)\n",
    "\n",
    "right_matcher = cv2.ximgproc.createRightMatcher(left_matcher)\n",
    "\n",
    "lmbda = 80000\n",
    "sigma = 1.2\n",
    "visual_multiplyer = 1.0\n",
    "\n",
    "wls_filter = cv2.ximgproc.createDisparityWLSFilter(matcher_left = left_matcher)\n",
    "wls_filter.setLambda(lmbda)\n",
    "wls_filter.setSigmaColor(sigma)\n",
    "\n",
    "disp_left = left_matcher.compute(imgL,imgR)\n",
    "disp_right = right_matcher.compute(imgR,imgL)\n",
    "disp_left = np.int16(disp_left)\n",
    "disp_right = np.int16(disp_right)\n",
    "\n",
    "filteredImg = wls_filter.filter(disp_left,imgL,None,disp_right)\n",
    "\n",
    "filteredImg = cv2.normalize(src=filteredImg, dst=filteredImg,\n",
    "                            beta = 0, alpha = 255, norm_type=cv2.NORM_MINMAX)\n",
    "filteredImg = np.uint8(filteredImg)\n",
    "cv2.imwrite(\"filtered.jpg\",filteredImg)\n",
    "\n",
    "cv2.imshow(\"Left Image\",imgL)\n",
    "cv2.imshow(\"st_Disparity Map\",filteredImg)\n",
    "\n",
    "cv2.waitKey()\n",
    "cv2.destroyAllWindows()"
   ]
  }
 ],
 "metadata": {
  "kernelspec": {
   "display_name": "Python 3",
   "language": "python",
   "name": "python3"
  },
  "language_info": {
   "codemirror_mode": {
    "name": "ipython",
    "version": 3
   },
   "file_extension": ".py",
   "mimetype": "text/x-python",
   "name": "python",
   "nbconvert_exporter": "python",
   "pygments_lexer": "ipython3",
   "version": "3.8.3"
  }
 },
 "nbformat": 4,
 "nbformat_minor": 4
}
